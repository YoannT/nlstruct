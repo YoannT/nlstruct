{
 "cells": [
  {
   "cell_type": "code",
   "execution_count": 1,
   "metadata": {},
   "outputs": [],
   "source": [
    "%load_ext autoreload\n",
    "%autoreload 2"
   ]
  },
  {
   "cell_type": "code",
   "execution_count": 3,
   "metadata": {},
   "outputs": [
    {
     "name": "stdout",
     "output_type": "stream",
     "text": [
      "Using cache /Users/perceval/Development/data/cache/nlstruct/dataloaders/ncbi_disease/load_ncbi_disease/0eece35480718b75\n",
      "Loading /Users/perceval/Development/data/cache/nlstruct/dataloaders/ncbi_disease/load_ncbi_disease/0eece35480718b75/output.pkl... Done\n"
     ]
    }
   ],
   "source": [
    "import re\n",
    "import string\n",
    "import pandas as pd\n",
    "from tqdm import tqdm\n",
    "from nlstruct.core.text import transform_text, apply_deltas, encode_as_tag\n",
    "from nlstruct.chunking.spacy_tokenization import spacy_tokenize, SPACY_ATTRIBUTES\n",
    "from nlstruct.core.pandas import normalize_vocabularies\n",
    "from nlstruct.core.cache import get_cache\n",
    "from nlstruct.dataloaders.ncbi_disease import load_ncbi_disease\n",
    "\n",
    "# Load the dataset\n",
    "docs, mentions, labels, fragments = load_ncbi_disease()\n",
    "\n",
    "# Clean the text / perform substitutions\n",
    "subs = [\n",
    "    (re.escape(\"<????-??-??>\"), \"MASKEDDATE\"),\n",
    "    (r\"(?<=[{}\\\\])(?![ ])\".format(string.punctuation), r\" \"),\n",
    "    (r\"(?<![ ])(?=[{}\\\\])\".format(string.punctuation), r\" \"),\n",
    "    (\"(?<=[a-zA-Z])(?=[0-9])\", r\" \"),\n",
    "    (\"(?<=[0-9])(?=[A-Za-z])\", r\" \"),\n",
    "    (\"MASKEDDATE\", \"<????-??-??>\"),\n",
    "]\n",
    "docs, deltas = transform_text.nocache(docs, *zip(*subs), return_deltas=True)\n",
    "\n",
    "# Apply transformations to the spans\n",
    "fragments = apply_deltas(fragments, deltas, on='doc_id')\n",
    "fragments = fragments.merge(mentions)\n",
    "\n",
    "# TOKENIZE\n",
    "tokens = (\n",
    "    spacy_tokenize.nocache(docs, lang=\"en_core_web_sm\", spacy_attributes=[\"orth_\"])#, spacy_attributes=list((set(SPACY_ATTRIBUTES) - {\"norm_\"}) | {\"lemma_\"}),)\n",
    "    #spm_tokenize.nocache(docs, \"/Users/perceval/Development/data/resources/camembert.v0/sentencepiece.bpe.model\")\n",
    ")\n",
    "tokens[\"token_orth\"] = tokens[\"token_orth\"].apply(lambda word: {\n",
    "    \"$\": \"${dollar}\",\n",
    "    \"_\": \"${underscore}\",\n",
    "    \"\\t\": \"${tab}\",\n",
    "    \"\\n\": \"${newline}\",\n",
    "    \" \": \"${space}\",\n",
    "    \"#\": \"${hash}\"}.get(word, word))"
   ]
  },
  {
   "cell_type": "code",
   "execution_count": 4,
   "metadata": {},
   "outputs": [
    {
     "name": "stdout",
     "output_type": "stream",
     "text": [
      "\n",
      "10192393|t|A common human skin tumour is caused by activating mutations in beta-catenin.\n",
      "10192393|a|WNT signalling orchestrates a number of developmental programs. In response to this stimulus, cytoplasmic beta-catenin (encoded by CTNNB1) is stabilized, enabling downstream transcriptional activation by members of the LEF/TCF family. One of the target genes for beta-catenin/TCF encodes c-MYC, explaining why constitutive activation of the WNT pathway can lead to cancer, particularly in the colon. Most colon cancers arise from mutations in the gene encoding adenomatous polyposis coli (APC), a protein required for ubiquitin-mediated degradation of beta-catenin, but a small percentage of colon and some other cancers harbour beta-catenin-stabilizing mutations. Recently, we discovered that transgenic mice expressing an activated beta-catenin are predisposed to developing skin tumours resembling pilomatricomas. Given that the skin of these adult mice also exhibits signs of de novo hair-follicle morphogenesis, we wondered whether human pilomatricomas might originate from hair matrix cells and whether they might possess beta-catenin-stabilizing mutations. Here, we explore the cell origin and aetiology of this common human skin tumour. We found nuclear LEF-1 in the dividing tumour cells, providing biochemical evidence that pilomatricomas are derived from hair matrix cells. At least 75% of these tumours possess mutations affecting the amino-terminal segment, normally involved in phosphorylation-dependent, ubiquitin-mediated degradation of the protein. This percentage of CTNNB1 mutations is greater than in all other human tumours examined thus far, and directly implicates beta-catenin/LEF misregulation as the major cause of hair matrix cell tumorigenesis in humans.. \n",
      "10192393\t15\t26\tskin tumour\tDiseaseClass\tD012878\n",
      "10192393\t443\t449\tcancer\tDiseaseClass\tD009369\n",
      "10192393\t483\t496\tcolon cancers\tDiseaseClass\tD003110\n",
      "10192393\t539\t565\tadenomatous polyposis coli\tSpecificDisease\tD011125\n",
      "10192393\t567\t570\tAPC\tSpecificDisease\tD011125\n",
      "10192393\t670\t698\tcolon and some other cancers\tCompositeMention\tD003110|D009369\n",
      "10192393\t855\t867\tskin tumours\tDiseaseClass\tD012878\n"
     ]
    }
   ],
   "source": [
    "!head /Users/perceval/Development/data/cache/nlstruct/dataloaders/ncbi_disease/load_ncbi_disease/0eece35480718b75/raw/NCBItrainset_corpus.txt"
   ]
  },
  {
   "cell_type": "code",
   "execution_count": 5,
   "metadata": {},
   "outputs": [
    {
     "name": "stderr",
     "output_type": "stream",
     "text": [
      "6882it [00:08, 796.29it/s]                           \n"
     ]
    }
   ],
   "source": [
    "# Generate vocabularies, needed before encode_as_tag since each \"tagified\" label needs to have its category \n",
    "[tokens, fragments], vocabularies = normalize_vocabularies([tokens, fragments])\n",
    "\n",
    "# Encode labels into tag on tokens, with respect to the fragments indices\n",
    "if fragments is not None:\n",
    "    tokens = encode_as_tag(tokens, fragments, tag_scheme=\"bio\", use_token_idx=False, verbose=1)"
   ]
  },
  {
   "cell_type": "code",
   "execution_count": 46,
   "metadata": {},
   "outputs": [
    {
     "name": "stderr",
     "output_type": "stream",
     "text": [
      "  2%|▏         | 19/792 [00:00<00:04, 179.58it/s]"
     ]
    },
    {
     "name": "stdout",
     "output_type": "stream",
     "text": [
      "Using cache /Users/perceval/Development/data/cache/ncbi_conll/0eece35480718b75\n"
     ]
    },
    {
     "name": "stderr",
     "output_type": "stream",
     "text": [
      "100%|██████████| 792/792 [00:02<00:00, 300.99it/s]\n"
     ]
    }
   ],
   "source": [
    "cache = get_cache(\"ncbi_conll\")\n",
    "for doc_id, doc_tokens in tqdm(tokens.groupby([\"doc_id\"], sort=\"begin\")):\n",
    "    with open(cache / (doc_id + \".conll\"), \"w\") as file:\n",
    "        for token_idx, token, label in doc_tokens[[\"token_idx\", \"token_orth\", \"category\"]].itertuples(index=False): # iter(zip(*df)) is way faster than df.iterrows()\n",
    "            print(token_idx, \"\\t\", token, \"\\t\", label, file=file)\n",
    "for doc_id, doc_text in docs[[\"doc_id\", \"text\"]].itertuples(index=False):\n",
    "    with open(cache / (doc_id + \".txt\"), \"w\") as file:\n",
    "        print(doc_text, file=file)"
   ]
  }
 ],
 "metadata": {
  "kernelspec": {
   "display_name": "NLStruct",
   "language": "python",
   "name": "nlstruct"
  },
  "language_info": {
   "codemirror_mode": {
    "name": "ipython",
    "version": 3
   },
   "file_extension": ".py",
   "mimetype": "text/x-python",
   "name": "python",
   "nbconvert_exporter": "python",
   "pygments_lexer": "ipython3",
   "version": "3.6.8"
  }
 },
 "nbformat": 4,
 "nbformat_minor": 4
}
